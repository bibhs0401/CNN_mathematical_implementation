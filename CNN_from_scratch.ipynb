{
  "nbformat": 4,
  "nbformat_minor": 0,
  "metadata": {
    "colab": {
      "provenance": []
    },
    "kernelspec": {
      "name": "python3",
      "display_name": "Python 3"
    },
    "language_info": {
      "name": "python"
    }
  },
  "cells": [
    {
      "cell_type": "markdown",
      "source": [
        "This Jupyter notebook demonstrates how to implement a Convolutional Neural Network (CNN) from scratch, using only basic libraries and no high-level frameworks for the core computations."
      ],
      "metadata": {
        "id": "WF_2ZHjJcuJT"
      }
    },
    {
      "cell_type": "markdown",
      "source": [
        " **Importing Libraries**\n",
        "\n",
        "\n",
        "*   **TensorFlow**: Used here solely to load the MNIST dataset.\n",
        "*   **NumPy:** Provides support for large multi-dimensional arrays and matrices, along with a large collection of high-level mathematical functions.\n",
        "\n"
      ],
      "metadata": {
        "id": "WIOpWWS0c5SB"
      }
    },
    {
      "cell_type": "code",
      "execution_count": 14,
      "metadata": {
        "id": "XskuXxodrYFs"
      },
      "outputs": [],
      "source": [
        "import tensorflow as tf\n",
        "import numpy as np\n",
        "import matplotlib.pyplot as plt"
      ]
    },
    {
      "cell_type": "markdown",
      "source": [
        "**Defining the Convolutional Layer**\n",
        "\n",
        "\n",
        "*   **Initialization**: The constructor initializes the number of kernels, kernel size, stride, bias, and the kernels themselves.\n",
        "*   **Partition Generator**: Generates partitions of the image to apply the convolution operation.\n",
        "\n",
        "\n",
        "*   **Forward Propagation**: Performs the convolution operation on the input image and returns the feature maps.\n",
        "*   **Backward Propagation**: Updates the kernels based on the gradients and learning rate.\n",
        "\n",
        "\n",
        "\n"
      ],
      "metadata": {
        "id": "VKUkr5ZKdNpO"
      }
    },
    {
      "cell_type": "code",
      "source": [
        "class ConvolutionLayers:\n",
        "  def __init__(self,kernel_num,kernel_size,stride = 1,bias = 1):\n",
        "\n",
        "    self.no_of_kernels = kernel_num\n",
        "    self.kernel_size = kernel_size\n",
        "    self.stride = stride\n",
        "    self.bias = bias\n",
        "    self.kernels = np.random.randn(kernel_num,kernel_size,kernel_size) / kernel_size**2\n",
        "\n",
        "  def partition_generator(self,input_img):\n",
        "    img_h,img_w = input_img.shape\n",
        "    self.img = input_img\n",
        "    for h in range(0,img_h-self.kernel_size+1,self.stride):\n",
        "      for w in range(0,img_w - self.kernel_size+1,self.stride):\n",
        "        slice = input_img[h:(h+self.kernel_size),w:(w+self.kernel_size)]\n",
        "        yield slice,h,w\n",
        "\n",
        "  def forward_prop(self,img):\n",
        "    img_h,img_w = img.shape\n",
        "    conv_output = np.zeros((img_h-self.kernel_size+1,img_w-self.kernel_size+1,self.no_of_kernels))\n",
        "    for sec,h,w in self.partition_generator(img):\n",
        "      conv_output[h,w] = np.sum(sec*self.kernels,axis = (1,2))\n",
        "    return conv_output\n",
        "\n",
        "  def backward_prop(self,dL_dZ,learning_rate):\n",
        "      dL_dk = np.zeros(self.kernels.shape)\n",
        "      for sec,h,w in self.partition_generator(self.img):\n",
        "        for f in range(self.no_of_kernels):\n",
        "          dL_dk += sec*dL_dZ[h,w,f]\n",
        "      self.kernels -= learning_rate*dL_dk\n",
        "      return dL_dk\n"
      ],
      "metadata": {
        "id": "2udjHrjvrgxX"
      },
      "execution_count": 2,
      "outputs": []
    },
    {
      "cell_type": "markdown",
      "source": [
        "**Defining the Max Pooling Layer**\n",
        "MaxPool class performs the max pooling operation to reduce the spatial dimensions of the input feature maps."
      ],
      "metadata": {
        "id": "gw_j-UYAdx9M"
      }
    },
    {
      "cell_type": "markdown",
      "source": [
        "\n",
        "\n",
        "*   **Initialization**: Initializes the pool size and stride.\n",
        "\n",
        "*   **Partition Generator**: Generates partitions of the image for pooling.\n",
        "\n",
        "\n",
        "*   **Forward Propagation:** Performs max pooling on the input feature maps.\n",
        "*   **Backward Propagation:** Distributes the gradients back through the pooling layer.\n",
        "\n",
        "\n",
        "\n",
        "\n"
      ],
      "metadata": {
        "id": "OI8vNVAFeqqQ"
      }
    },
    {
      "cell_type": "code",
      "source": [
        "class MaxPool:\n",
        "  def __init__(self,pool_size,stride):\n",
        "    self.pool_size = pool_size\n",
        "    self.stride = stride\n",
        "\n",
        "  def partition_generator(self,img):\n",
        "    img_h,img_w = img.shape[0]//self.pool_size,img.shape[1]//self.pool_size\n",
        "    self.img = img\n",
        "    for h in range(0,img_h,self.stride):\n",
        "      for w in range(0,img_w,self.stride):\n",
        "        slice = img[(h*self.pool_size):(h*self.pool_size+self.pool_size),(w*self.pool_size):(w*self.pool_size+self.pool_size)]\n",
        "        yield slice,h,w\n",
        "\n",
        "  def forward_prop(self,img):\n",
        "    h,w,num_kernels = img.shape\n",
        "    max_pooled_out = np.zeros((h//self.pool_size,w//self.pool_size,num_kernels))\n",
        "    for slice,h,w in self.partition_generator(img):\n",
        "      max_pooled_out[h,w] = np.amax(slice,axis = (0,1))\n",
        "    return max_pooled_out\n",
        "\n",
        "  def backward_prop(self,dL_dZ):\n",
        "\n",
        "    dL_dk = np.zeros(self.img.shape)\n",
        "    for patch,h,w in self.partition_generator(self.img):\n",
        "      h0, w0, num_kernels = patch.shape\n",
        "      max_val = np.amax(patch, axis=(0,1))\n",
        "      for idx_h in range(h0):\n",
        "        for idx_w in range(w0):\n",
        "          for idx_k in range(num_kernels):\n",
        "            if patch[idx_h,idx_w,idx_k] == max_val[idx_k]:\n",
        "              dL_dk[h*self.pool_size+idx_h, w*self.pool_size+idx_w, idx_k] = dL_dZ[h,w,idx_k]\n",
        "      return dL_dk\n"
      ],
      "metadata": {
        "id": "ikgefd_Wrnho"
      },
      "execution_count": 3,
      "outputs": []
    },
    {
      "cell_type": "markdown",
      "source": [
        "**Defining the Fully Connected and Softmax Layer**\n",
        "The FullyCon_SoftmaxLayer class implements the fully connected layer followed by a softmax activation, which is used for classification.\n",
        "\n",
        "*   **Initialization**: Initializes weights and biases.\n",
        "*   **Dense Layer**: Flattens the input and applies the fully connected layer.\n",
        "\n",
        "\n",
        "*   **Softmax Output**: Computes the softmax activation.\n",
        "*   **Forward Propagation**: Combines the dense layer and softmax operations.\n",
        "\n",
        "\n",
        "*   **Backward Propagation**: Updates the weights and biases based on the gradients and learning rate.\n",
        "\n",
        "\n",
        "\n",
        "\n",
        "\n",
        "\n"
      ],
      "metadata": {
        "id": "HLg_0M4Ce8jJ"
      }
    },
    {
      "cell_type": "code",
      "source": [
        "class FullyCon_SoftmaxLayer:\n",
        "    def __init__(self, input_units, output_units):\n",
        "        self.weight = np.random.randn(input_units, output_units) / input_units\n",
        "        self.bias = np.zeros(output_units)\n",
        "        self.output = None\n",
        "\n",
        "    def _dense_layer(self, image):\n",
        "        self.original_shape = image.shape\n",
        "        image_flattened = image.flatten()\n",
        "        self.flattened_input = image_flattened\n",
        "        dense_output = np.dot(image_flattened, self.weight) + self.bias\n",
        "        self.output = dense_output\n",
        "        return dense_output\n",
        "\n",
        "    def _softmax_out(self, dense_out):\n",
        "        softmax_output = np.exp(dense_out) / np.sum(np.exp(dense_out), axis=0)\n",
        "        return softmax_output\n",
        "\n",
        "    def forward_prop(self, image):\n",
        "        dense_out = self._dense_layer(image)\n",
        "        softmax_output = self._softmax_out(dense_out)\n",
        "        return softmax_output\n",
        "\n",
        "    def backward_prop(self, dL_dz, lr):\n",
        "        for i, gradient in enumerate(dL_dz):\n",
        "            if gradient == 0:\n",
        "                continue\n",
        "            transformation_eq = np.exp(self.output)\n",
        "            S_total = np.sum(transformation_eq)\n",
        "\n",
        "            dY_dZ = -transformation_eq[i]*transformation_eq / (S_total**2)\n",
        "            dY_dZ[i] = transformation_eq[i]*(S_total - transformation_eq[i]) / (S_total**2)\n",
        "\n",
        "            dZ_dw = self.flattened_input\n",
        "            dZ_db = 1\n",
        "            dZ_dX = self.weight\n",
        "\n",
        "            dE_dZ = gradient * dY_dZ\n",
        "            dE_dw = dZ_dw[np.newaxis].T @ dE_dZ[np.newaxis]\n",
        "            dE_db = dE_dZ * dZ_db\n",
        "            dE_dX = dZ_dX @ dE_dZ\n",
        "\n",
        "            self.weight -= lr * dE_dw\n",
        "            self.bias -= lr * dE_db\n",
        "\n",
        "            return dE_dX.reshape(self.original_shape)"
      ],
      "metadata": {
        "id": "iQE_VIF8rsOY"
      },
      "execution_count": 4,
      "outputs": []
    },
    {
      "cell_type": "markdown",
      "source": [
        "**Training and Prediction**\n",
        "\n",
        "\n",
        "*   **Initialization:** Initializes the training parameters, datasets, and layers.\n",
        "*   **MNIST Execution:** Trains the model using the MNIST dataset.\n",
        "\n",
        "\n",
        "*   **Normal Execution:** Trains the model using the provided dataset.\n",
        "*   **Forward Propagation:** Computes the forward pass through the network.\n",
        "\n",
        "\n",
        "*   **Backward Propagation:** Updates the network parameters using backpropagation.\n",
        "*   **Training:** Trains the model on a single image-label pair.\n",
        "\n",
        "*   **Prediction:** Predicts the label for a given image.\n",
        "\n",
        "\n",
        "\n",
        "\n",
        "\n",
        "\n",
        "\n",
        "\n"
      ],
      "metadata": {
        "id": "_PAvx5WSfZfl"
      }
    },
    {
      "cell_type": "code",
      "source": [
        "class Train_Pred_Model:\n",
        "\n",
        "    def __init__(self, epochs=10, imgs=None, labels=None, layers=None, isMnist=True, train=True):\n",
        "        self.isMnist = isMnist\n",
        "        self.imgs = imgs\n",
        "        self.labels = labels\n",
        "        self.layers = layers\n",
        "        self.epochs = epochs\n",
        "\n",
        "        if self.isMnist and train:\n",
        "            self._Mnist_Exec()\n",
        "        elif train:\n",
        "            self._Normal_Exec()\n",
        "\n",
        "    def _Mnist_Exec(self):\n",
        "        (X_train, y_train), (X_test, y_test) = tf.keras.datasets.mnist.load_data()\n",
        "        X_train = X_train[:5000]\n",
        "        y_train = y_train[:5000]\n",
        "\n",
        "        layers = [\n",
        "            ConvolutionLayers(16, 3),\n",
        "            MaxPool(2, 2),\n",
        "            FullyCon_SoftmaxLayer(13*13*16, 10)\n",
        "        ]\n",
        "\n",
        "        for epoch in range(self.epochs):\n",
        "            print(f'Epoch {epoch + 1} -->')\n",
        "\n",
        "            permutation = np.random.permutation(len(X_train))\n",
        "            X_train = X_train[permutation]\n",
        "            y_train = y_train[permutation]\n",
        "\n",
        "            total_loss = 0\n",
        "            total_accuracy = 0\n",
        "            num_samples = len(X_train)\n",
        "\n",
        "            for image, label in zip(X_train, y_train):\n",
        "                loss, accuracy = self.train(image, label, layers)\n",
        "                total_loss += loss\n",
        "                total_accuracy += accuracy\n",
        "\n",
        "            average_loss = total_loss / num_samples\n",
        "            average_accuracy = total_accuracy / num_samples\n",
        "            print(f'Epoch {epoch + 1} --> average loss: {average_loss}, average accuracy: {average_accuracy}')\n",
        "\n",
        "        self.layers = layers\n",
        "        return layers\n",
        "\n",
        "    def _Normal_Exec(self):\n",
        "        for epoch in range(self.epochs):\n",
        "            print(f'Epoch {epoch + 1} -->')\n",
        "\n",
        "            total_loss = 0\n",
        "            total_accuracy = 0\n",
        "            num_samples = len(self.imgs)\n",
        "\n",
        "            for image, label in zip(self.imgs, self.labels):\n",
        "                loss, accuracy = self.train(image, label, self.layers)\n",
        "                total_loss += loss\n",
        "                total_accuracy += accuracy\n",
        "\n",
        "            average_loss = total_loss / num_samples\n",
        "            average_accuracy = total_accuracy / num_samples\n",
        "            print(f'Epoch {epoch + 1} --> average loss: {average_loss}, average accuracy: {average_accuracy}')\n",
        "\n",
        "        return self.layers\n",
        "\n",
        "    def _forward(self, img, label, layers):\n",
        "        output = img / 255.\n",
        "        for layer in layers:\n",
        "            output = layer.forward_prop(output)\n",
        "        loss = -np.log(output[label])\n",
        "        acc = 1 if np.argmax(output) == label else 0\n",
        "        return output, loss, acc\n",
        "\n",
        "    def _backprop(self, gradients, layers, lr=0.01):\n",
        "        grad = gradients\n",
        "        for layer in layers[::-1]:\n",
        "            if isinstance(layer, (ConvolutionLayers, FullyCon_SoftmaxLayer)):\n",
        "                grad = layer.backward_prop(grad, lr)\n",
        "            else:\n",
        "                grad = layer.backward_prop(grad)\n",
        "        return grad\n",
        "\n",
        "    def train(self, img, label, layers, lr=0.05):\n",
        "        output, loss, acc = self._forward(img, label, layers)\n",
        "        gradient = np.zeros(10)\n",
        "        gradient[label] = -1 / output[label]\n",
        "        grad = self._backprop(gradient, layers, lr)\n",
        "        return loss, acc\n",
        "\n",
        "    def predict(self, img, layers):\n",
        "        output = img / 255.\n",
        "        for layer in layers:\n",
        "            output = layer.forward_prop(output)\n",
        "        return output\n"
      ],
      "metadata": {
        "id": "IF4YAWkErao8"
      },
      "execution_count": 5,
      "outputs": []
    },
    {
      "cell_type": "code",
      "source": [
        "Model = Train_Pred_Model(epochs = 10,train = True)"
      ],
      "metadata": {
        "colab": {
          "base_uri": "https://localhost:8080/"
        },
        "id": "XV3d5VPJr-Vp",
        "outputId": "f686eef1-f8cb-484b-9487-53f726fddbf9"
      },
      "execution_count": 6,
      "outputs": [
        {
          "output_type": "stream",
          "name": "stdout",
          "text": [
            "Downloading data from https://storage.googleapis.com/tensorflow/tf-keras-datasets/mnist.npz\n",
            "11490434/11490434 [==============================] - 0s 0us/step\n",
            "Epoch 1 -->\n",
            "Epoch 1 --> average loss: 0.6493965567791369, average accuracy: 0.8202\n",
            "Epoch 2 -->\n",
            "Epoch 2 --> average loss: 0.39215466936620375, average accuracy: 0.889\n",
            "Epoch 3 -->\n",
            "Epoch 3 --> average loss: 0.3400028914204129, average accuracy: 0.9038\n",
            "Epoch 4 -->\n",
            "Epoch 4 --> average loss: 0.30748923353655894, average accuracy: 0.9114\n",
            "Epoch 5 -->\n",
            "Epoch 5 --> average loss: 0.28485756794528366, average accuracy: 0.9194\n",
            "Epoch 6 -->\n",
            "Epoch 6 --> average loss: 0.26822254651200855, average accuracy: 0.9248\n",
            "Epoch 7 -->\n",
            "Epoch 7 --> average loss: 0.25504665967077245, average accuracy: 0.9268\n",
            "Epoch 8 -->\n",
            "Epoch 8 --> average loss: 0.24463324857984717, average accuracy: 0.9322\n",
            "Epoch 9 -->\n",
            "Epoch 9 --> average loss: 0.23267339963035139, average accuracy: 0.934\n",
            "Epoch 10 -->\n",
            "Epoch 10 --> average loss: 0.22357623695248216, average accuracy: 0.9388\n"
          ]
        }
      ]
    },
    {
      "cell_type": "code",
      "source": [
        "(X_train, y_train), (X_test, y_test) = tf.keras.datasets.mnist.load_data()\n",
        "\n",
        "# Shuffle indices\n",
        "shuffled_indices = np.random.permutation(len(X_test))\n",
        "\n",
        "# Select a sample image from the test dataset\n",
        "sample_index = shuffled_indices[0]\n",
        "sample_image = X_test[sample_index]\n",
        "sample_label = y_test[sample_index]\n",
        "\n",
        "# Display the sample image\n",
        "plt.imshow(sample_image, cmap='gray')\n",
        "plt.title(f'True Label: {sample_label}')\n",
        "plt.show()\n",
        "\n",
        "# Normalize the image\n",
        "normalized_image = sample_image / 255.\n",
        "\n",
        "# Get the trained layers from the model\n",
        "trained_layers = Model.layers\n",
        "\n",
        "# Run prediction\n",
        "prediction_output = Model.predict(normalized_image, trained_layers)\n",
        "\n",
        "# Get the predicted class\n",
        "predicted_class = np.argmax(prediction_output)\n",
        "\n",
        "print(f'Predicted class: {predicted_class}')\n"
      ],
      "metadata": {
        "id": "A4QA9Re9sHNX",
        "colab": {
          "base_uri": "https://localhost:8080/",
          "height": 469
        },
        "outputId": "0c7ef858-7bd0-4f01-8819-5bbe16e5beda"
      },
      "execution_count": 13,
      "outputs": [
        {
          "output_type": "display_data",
          "data": {
            "text/plain": [
              "<Figure size 640x480 with 1 Axes>"
            ],
            "image/png": "[encoded data removed]"
          },
          "metadata": {}
        },
        {
          "output_type": "stream",
          "name": "stdout",
          "text": [
            "Predicted class: 1\n"
          ]
        }
      ]
    },
    {
      "cell_type": "code",
      "source": [],
      "metadata": {
        "id": "WSGuVlkppYUQ"
      },
      "execution_count": null,
      "outputs": []
    }
  ]
}